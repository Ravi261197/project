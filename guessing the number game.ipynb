{
 "cells": [
  {
   "cell_type": "code",
   "execution_count": 4,
   "id": "8a40fa66",
   "metadata": {},
   "outputs": [
    {
     "name": "stdout",
     "output_type": "stream",
     "text": [
      "Enter the lower bond 100\n",
      "Enter the upper bond 10000\n",
      "\n",
      "\t you've only 13 chance to guess the integer! \n",
      "\n",
      "Guess the number 5000\n",
      "you guessed too small\n",
      "Guess the number 8000\n",
      "you guess too large\n",
      "Guess the number 6500\n",
      "you guess too large\n",
      "Guess the number 5500\n",
      "you guess too large\n",
      "Guess the number 4500\n",
      "you guessed too small\n",
      "Guess the number 5000\n",
      "you guessed too small\n",
      "Guess the number 5300\n",
      "you guessed too small\n",
      "Guess the number 5350\n",
      "you guessed too small\n",
      "Guess the number 5400\n",
      "you guessed too small\n",
      "Guess the number 5450\n",
      "you guess too large\n",
      "Guess the number 5425\n",
      "you guess too large\n",
      "Guess the number 5415\n",
      "you guess too large\n",
      "Guess the number 5405\n",
      "you guessed too small\n",
      "Guess the number 5410\n",
      "you guessed too small\n",
      "\n",
      "THe number is 5414\n",
      "\tBetter luck next time \n"
     ]
    }
   ],
   "source": [
    "import random\n",
    "import math\n",
    "lower = int(input(\"Enter the lower bond \"))\n",
    "upper = int(input(\"Enter the upper bond \"))\n",
    "x= random.randint(lower,upper)\n",
    "print(\"\\n\\t you've only\",\n",
    "     round(math.log(upper - lower +1,2)),\n",
    "     \"chance to guess the integer! \\n\")\n",
    "count=0\n",
    "while count < math.log(upper - lower+1,2):\n",
    "    count+=1\n",
    "    guess=int(input(\"Guess the number \"))\n",
    "    if x== guess:\n",
    "        print(\"Congrulation you dit it in\",count,\"try\")\n",
    "        break\n",
    "    elif x>guess:\n",
    "        print(\"you guessed too small\")\n",
    "    elif x<guess:\n",
    "         print(\"you guess too large\")   \n",
    "if count >= math.log(upper - lower +1,2):\n",
    "    print(\"\\nTHe number is %d\"%x)\n",
    "    print(\"\\tBetter luck next time \")"
   ]
  }
 ],
 "metadata": {
  "kernelspec": {
   "display_name": "Python 3",
   "language": "python",
   "name": "python3"
  },
  "language_info": {
   "codemirror_mode": {
    "name": "ipython",
    "version": 3
   },
   "file_extension": ".py",
   "mimetype": "text/x-python",
   "name": "python",
   "nbconvert_exporter": "python",
   "pygments_lexer": "ipython3",
   "version": "3.8.8"
  }
 },
 "nbformat": 4,
 "nbformat_minor": 5
}
