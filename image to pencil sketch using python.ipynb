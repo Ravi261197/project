{
 "cells": [
  {
   "cell_type": "code",
   "execution_count": 2,
   "id": "66a665f2",
   "metadata": {},
   "outputs": [],
   "source": [
    "import numpy as np\n",
    "import imageio\n",
    "import scipy.ndimage\n",
    "import cv2\n",
    "import pyttsx3"
   ]
  },
  {
   "cell_type": "code",
   "execution_count": 7,
   "id": "bbecdbbf",
   "metadata": {},
   "outputs": [
    {
     "data": {
      "text/plain": [
       "True"
      ]
     },
     "execution_count": 7,
     "metadata": {},
     "output_type": "execute_result"
    }
   ],
   "source": [
    "img_location=r\"C:\\Users\\HP\\Desktop\"\n",
    "img =\"img.jpg\"\n",
    "def rgb2gray(rgb):\n",
    "    return np.dot(rgb[...,:3],[0.2989,0.5870,0.1140])\n",
    "def dodge(front,back):\n",
    "    final_sketch = front*255/(255-back)\n",
    "    final_sketch[final_sketch>255]=255\n",
    "    final_sketch[back==255]=255\n",
    "    return final_sketch.astype('uint8')\n",
    "ss=imageio.imread(img)\n",
    "gray=rgb2gray(ss)\n",
    "i=255-gray\n",
    "blur=scipy.ndimage.filters.gaussian_filter(i,sigma=15)\n",
    "r=dodge(blur,gray)\n",
    "cv2.imwrite('sketch.png',r)"
   ]
  }
 ],
 "metadata": {
  "kernelspec": {
   "display_name": "Python 3",
   "language": "python",
   "name": "python3"
  },
  "language_info": {
   "codemirror_mode": {
    "name": "ipython",
    "version": 3
   },
   "file_extension": ".py",
   "mimetype": "text/x-python",
   "name": "python",
   "nbconvert_exporter": "python",
   "pygments_lexer": "ipython3",
   "version": "3.8.8"
  }
 },
 "nbformat": 4,
 "nbformat_minor": 5
}
